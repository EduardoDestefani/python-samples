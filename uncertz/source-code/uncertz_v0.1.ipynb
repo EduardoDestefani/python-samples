{
 "cells": [
  {
   "cell_type": "markdown",
   "metadata": {},
   "source": [
    "# **Propagação de erros em Python3: Jupyter Notebook - Data analytics**\n",
    "\n",
    "## *Subprojeto \"Protótipo de Magnetômetro Portátil com Internet das Coisas\" (Computação Física) da UFES/Alegre*\n",
    "\n",
    "### Eduardo Destefani Stefanato, IC FAPES\n",
    "### Professor : Roberto Colistete Jr., em 05/02/2021."
   ]
  },
  {
   "cell_type": "markdown",
   "metadata": {},
   "source": [
    "__________________________________"
   ]
  },
  {
   "cell_type": "markdown",
   "metadata": {},
   "source": [
    "### O que é propagação de erros/incerteza?\n",
    "\n",
    "Em estatística, propagação de incerteza ou propagação de erro (ambas diferem na forma de apresentar seus valores) é uma forma de verificar a confiabilidade dos dados de uma certa amostra ou medida, quando esta é submetida a diferentes operações matemáticas. Ela define como as incertezas ou erros das variáveis estão relacionadas e fornece a melhor estimativa para aquele conjunto de dados.\n",
    "\n",
    "Incerteza é uma quantidade (dimensional ou adimensional) que expressa a confiabilidade de um conjunto de dados, dada a sua dispersão, independentemente do valor verdadeiro. A entidade máxima para os padrões de medidas de incerteza é o Escritório Internacional de Pesos e Medidas (BIPM).\n",
    "\n",
    "Erro é a diferença entre o valor de uma certa medida e o seu valor verdadeiro.\n",
    "\n",
    "#### Importação dos módulos Python para o programa"
   ]
  },
  {
   "cell_type": "code",
   "execution_count": 3,
   "metadata": {},
   "outputs": [],
   "source": [
    "# Data sat\n",
    "from sympy import *"
   ]
  },
  {
   "cell_type": "markdown",
   "metadata": {},
   "source": [
    "#### Desenvolvimento\n",
    "\n",
    "Classe de calculos das derivadas parciais e listas de erros (incertezas):"
   ]
  },
  {
   "cell_type": "code",
   "execution_count": 8,
   "metadata": {},
   "outputs": [],
   "source": [
    "class uncertz :\n",
    "    \n",
    "    def __init__(self, name) :\n",
    "        self.name = name\n",
    "\n",
    "    def grad(*vartuple) :\n",
    "        diff_func = []\n",
    "        func = input('\\nFunção: ')\n",
    "        for i in vartuple :\n",
    "            i = Symbol('{}' .format(i))\n",
    "            diff_func.append(diff(func, i))\n",
    "            \n",
    "        return diff_func[1:]\n",
    "    \n",
    "    def error(*errtuple) :\n",
    "        err_func = []\n",
    "        for i in errtuple :\n",
    "            err_func.append(i)\n",
    "            \n",
    "        return err_func[1:]"
   ]
  },
  {
   "cell_type": "markdown",
   "metadata": {},
   "source": [
    "A celula a seguir possui o formulário que deve ser preenchido pelo usuário no cálculo da incerteza da função desejada: "
   ]
  },
  {
   "cell_type": "code",
   "execution_count": 9,
   "metadata": {},
   "outputs": [
    {
     "name": "stdin",
     "output_type": "stream",
     "text": [
      "Nome da função:  Momento\n",
      "\n",
      "Número de grandezas:  2\n",
      "Variável 1:  m\n",
      "Variável 2:  v\n"
     ]
    },
    {
     "name": "stdout",
     "output_type": "stream",
     "text": [
      "\n",
      "\n"
     ]
    },
    {
     "name": "stdin",
     "output_type": "stream",
     "text": [
      "Incerteza da variável 1:  0.01\n",
      "Incerteza da variável 2:  0.2\n",
      "Valor da variável 1:  89\n",
      "Valor da variável 2:  0.8\n",
      "\n",
      "Função:  m*v\n"
     ]
    },
    {
     "name": "stdout",
     "output_type": "stream",
     "text": [
      "\n",
      "+/- 17.80\n"
     ]
    }
   ],
   "source": [
    "f = uncertz(input('Nome da função: '))\n",
    "\n",
    "loop = True\n",
    "while loop :\n",
    "    try:\n",
    "        qt_gran = int(input('\\nNúmero de grandezas: '))\n",
    "        loop = False\n",
    "    except ValueError:\n",
    "        loop = True\n",
    "        print('Você não digitou um número inteiro.')\n",
    "\n",
    "count = 0\n",
    "lst_var = []\n",
    "for i in range(qt_gran) :\n",
    "    count += 1\n",
    "    i = input('Variável {}: '. format(count))\n",
    "    lst_var.append(i)\n",
    "    \n",
    "print('\\n')\n",
    "count = 0\n",
    "lst_err = []\n",
    "for i in range(qt_gran) :\n",
    "    count += 1\n",
    "    i = float(input('Incerteza da variável {}: '. format(count)))\n",
    "    lst_err.append(i)\n",
    "    \n",
    "count = 0\n",
    "lst_val = []\n",
    "for i in range(qt_gran) :\n",
    "    count += 1\n",
    "    i = float(input('Valor da variável {}: '. format(count)))\n",
    "    lst_val.append(i)\n",
    "\n",
    "vartuple = tuple(lst_var)\n",
    "errtuple = tuple(lst_err)\n",
    "valtuple = tuple(lst_val)\n",
    "    \n",
    "dict_data = {}\n",
    "for var, val in list(zip(vartuple, valtuple)):\n",
    "    dict_data[var] = val\n",
    "\n",
    "grad = f.grad(*vartuple)\n",
    "error = f.error(*errtuple)\n",
    "\n",
    "BIMP = prod_int = sqrt(sum(tuple(map(lambda a,b: (a*b)**2, grad, error))))    \n",
    "BIMP = BIMP.subs(dict_data); print('\\n+/-', BIMP.round(2))"
   ]
  },
  {
   "cell_type": "markdown",
   "metadata": {},
   "source": [
    "Fonte: [Propagação de erros](https://pt.wikipedia.org/wiki/Propaga%C3%A7%C3%A3o_de_erros)"
   ]
  },
  {
   "cell_type": "raw",
   "metadata": {},
   "source": [
    "End."
   ]
  }
 ],
 "metadata": {
  "kernelspec": {
   "display_name": "Python 3",
   "language": "python",
   "name": "python3"
  },
  "language_info": {
   "codemirror_mode": {
    "name": "ipython",
    "version": 3
   },
   "file_extension": ".py",
   "mimetype": "text/x-python",
   "name": "python",
   "nbconvert_exporter": "python",
   "pygments_lexer": "ipython3",
   "version": "3.8.5"
  }
 },
 "nbformat": 4,
 "nbformat_minor": 4
}
